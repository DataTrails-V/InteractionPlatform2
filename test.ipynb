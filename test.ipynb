{
 "cells": [
  {
   "cell_type": "code",
   "execution_count": 1,
   "metadata": {},
   "outputs": [],
   "source": [
    "import pydrive\n",
    "from pydrive.auth import GoogleAuth\n",
    "from pydrive.drive import GoogleDrive\n",
    "import os"
   ]
  },
  {
   "cell_type": "code",
   "execution_count": 2,
   "metadata": {},
   "outputs": [],
   "source": [
    "\n",
    "def authenticate():\n",
    "    gauth = GoogleAuth()\n",
    "    # Load credentials from local file\n",
    "    gauth.LoadCredentialsFile(\"C:/Users/Tsishetska/Downloads/client_secrets.json\")\n",
    "    if gauth.credentials is None:\n",
    "        # Authenticate if they're not there\n",
    "        gauth.LocalWebserverAuth()\n",
    "    elif gauth.access_token_expired:\n",
    "        # Refresh them if expired\n",
    "        gauth.Refresh()\n",
    "    else:\n",
    "        # Initialize the saved creds\n",
    "        gauth.Authorize()\n",
    "    gauth.SaveCredentialsFile(\"client_secrets.json\")\n",
    "    return GoogleDrive(gauth)"
   ]
  },
  {
   "cell_type": "code",
   "execution_count": 7,
   "metadata": {},
   "outputs": [],
   "source": [
    "def upload_to_drive(file_path, title, mime_type='text/plain'):\n",
    "    drive = authenticate()\n",
    "    file1 = drive.CreateFile({'title': title, 'mimeType': mime_type})\n",
    "    file1.SetContentFile(file_path)\n",
    "    file1.Upload()\n",
    "    print('File uploaded successfully')\n",
    "\n"
   ]
  },
  {
   "cell_type": "code",
   "execution_count": 3,
   "metadata": {},
   "outputs": [],
   "source": [
    "from pydrive.auth import GoogleAuth\n",
    "from pydrive.drive import GoogleDrive\n",
    "import os\n",
    "g_login = GoogleAuth()\n"
   ]
  },
  {
   "cell_type": "code",
   "execution_count": 4,
   "metadata": {},
   "outputs": [],
   "source": [
    "g_login.LoadClientConfigFile(\"C:/Users/Tsishetska/Downloads/client_secret_778015272541-knd6n1se9e78r5u42ss95i2aeejt77ba.apps.googleusercontent.com (1).json\")"
   ]
  },
  {
   "cell_type": "code",
   "execution_count": 5,
   "metadata": {},
   "outputs": [
    {
     "name": "stdout",
     "output_type": "stream",
     "text": [
      "Your browser has been opened to visit:\n",
      "\n",
      "    https://accounts.google.com/o/oauth2/auth?client_id=778015272541-knd6n1se9e78r5u42ss95i2aeejt77ba.apps.googleusercontent.com&redirect_uri=http%3A%2F%2Flocalhost%3A8080%2F&scope=https%3A%2F%2Fwww.googleapis.com%2Fauth%2Fdrive&access_type=offline&response_type=code\n",
      "\n",
      "Authentication successful.\n"
     ]
    }
   ],
   "source": [
    "g_login.LocalWebserverAuth()\n"
   ]
  },
  {
   "cell_type": "code",
   "execution_count": 6,
   "metadata": {},
   "outputs": [],
   "source": [
    "drive = GoogleDrive(g_login)"
   ]
  },
  {
   "cell_type": "code",
   "execution_count": 8,
   "metadata": {},
   "outputs": [],
   "source": [
    "empty_file = drive.CreateFile({'title': 'MyEmptyFile.txt'})\n",
    "empty_file.Upload()"
   ]
  },
  {
   "cell_type": "code",
   "execution_count": 3,
   "metadata": {},
   "outputs": [
    {
     "data": {
      "text/plain": [
       "'c:\\\\Users\\\\Tsishetska\\\\OneDrive - adesso Group\\\\Documents\\\\Master Thesis\\\\InteractionPlatform\\\\streamlit'"
      ]
     },
     "execution_count": 3,
     "metadata": {},
     "output_type": "execute_result"
    }
   ],
   "source": [
    "import os\n",
    "os.getcwd()"
   ]
  },
  {
   "cell_type": "code",
   "execution_count": 1,
   "metadata": {},
   "outputs": [
    {
     "name": "stdout",
     "output_type": "stream",
     "text": [
      "Your browser has been opened to visit:\n",
      "\n",
      "    https://accounts.google.com/o/oauth2/auth?client_id=778015272541-knd6n1se9e78r5u42ss95i2aeejt77ba.apps.googleusercontent.com&redirect_uri=http%3A%2F%2Flocalhost%3A8080%2F&scope=https%3A%2F%2Fwww.googleapis.com%2Fauth%2Fdrive&access_type=offline&response_type=code\n",
      "\n",
      "Authentication successful.\n"
     ]
    }
   ],
   "source": [
    "from pydrive.auth import GoogleAuth\n",
    "from pydrive.drive import GoogleDrive\n",
    "import pandas as pd\n",
    "\n",
    "\n",
    "# Set the working directory to the directory of the script\n",
    "#os.chdir(os.path.dirname(os.path.abspath(\"negotiation_chat.py\")))\n",
    "# Initialize GoogleAuth and GoogleDrive\n",
    "g_login = GoogleAuth()\n",
    "#g_login.LoadClientConfigFile(\"C:/Users/Tsishetska/Downloads/client_secret_778015272541-knd6n1se9e78r5u42ss95i2aeejt77ba.apps.googleusercontent.com (1).json\")\n",
    "#g_login.LoadClientConfigFile(\"C:/Users/Tsishetska/OneDrive - adesso Group/Documents/Master Thesis/InteractionPlatform/streamlit/client_secret_778015272541-knd6n1se9e78r5u42ss95i2aeejt77ba.apps.googleusercontent.com (1).json\")\n",
    "g_login.LoadClientConfigFile(\"client_secret_778015272541-knd6n1se9e78r5u42ss95i2aeejt77ba.apps.googleusercontent.com (1).json\")\n",
    "\n",
    "g_login.LocalWebserverAuth()\n",
    "drive = GoogleDrive(g_login)\n",
    "\n"
   ]
  },
  {
   "cell_type": "code",
   "execution_count": 3,
   "metadata": {},
   "outputs": [
    {
     "name": "stdout",
     "output_type": "stream",
     "text": [
      "File uploaded successfully!\n"
     ]
    }
   ],
   "source": [
    "# Create a DataFrame with the specified columns\n",
    "columns = [\n",
    "    \"Age\", \"Gender\", \"Academic Degree\", \"Is English Your Mother Tongue\",\n",
    "    *[\"Statement \" + str(i) for i in range(1, 13)],\n",
    "    \"Understanding of Equality\", \"Understanding of Proportionality\"\n",
    "]\n",
    "df = pd.DataFrame(columns=columns)\n",
    "\n",
    "# Save the DataFrame to an Excel file\n",
    "file_path = 'data.xlsx'\n",
    "df.to_excel(file_path, index=False, engine='openpyxl')\n",
    "\n",
    "# Create and upload the file to Google Drive\n",
    "file_to_upload = drive.CreateFile({'title': 'SurveyData.xlsx'})\n",
    "file_to_upload.SetContentFile(file_path)\n",
    "file_to_upload.Upload()\n",
    "\n",
    "print(\"File uploaded successfully!\")"
   ]
  }
 ],
 "metadata": {
  "kernelspec": {
   "display_name": "base",
   "language": "python",
   "name": "python3"
  },
  "language_info": {
   "codemirror_mode": {
    "name": "ipython",
    "version": 3
   },
   "file_extension": ".py",
   "mimetype": "text/x-python",
   "name": "python",
   "nbconvert_exporter": "python",
   "pygments_lexer": "ipython3",
   "version": "3.10.9"
  }
 },
 "nbformat": 4,
 "nbformat_minor": 2
}
